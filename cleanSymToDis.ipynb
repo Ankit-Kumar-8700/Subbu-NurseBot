{
 "cells": [
  {
   "cell_type": "code",
   "execution_count": 1,
   "metadata": {},
   "outputs": [],
   "source": [
    "import numpy as np\n",
    "import pandas as pd"
   ]
  },
  {
   "cell_type": "code",
   "execution_count": 2,
   "metadata": {},
   "outputs": [
    {
     "data": {
      "text/html": [
       "<div>\n",
       "<style scoped>\n",
       "    .dataframe tbody tr th:only-of-type {\n",
       "        vertical-align: middle;\n",
       "    }\n",
       "\n",
       "    .dataframe tbody tr th {\n",
       "        vertical-align: top;\n",
       "    }\n",
       "\n",
       "    .dataframe thead th {\n",
       "        text-align: right;\n",
       "    }\n",
       "</style>\n",
       "<table border=\"1\" class=\"dataframe\">\n",
       "  <thead>\n",
       "    <tr style=\"text-align: right;\">\n",
       "      <th></th>\n",
       "      <th>label</th>\n",
       "      <th>text</th>\n",
       "    </tr>\n",
       "  </thead>\n",
       "  <tbody>\n",
       "    <tr>\n",
       "      <th>0</th>\n",
       "      <td>Psoriasis</td>\n",
       "      <td>I have been experiencing a skin rash on my arm...</td>\n",
       "    </tr>\n",
       "    <tr>\n",
       "      <th>1</th>\n",
       "      <td>Psoriasis</td>\n",
       "      <td>My skin has been peeling, especially on my kne...</td>\n",
       "    </tr>\n",
       "    <tr>\n",
       "      <th>2</th>\n",
       "      <td>Psoriasis</td>\n",
       "      <td>I have been experiencing joint pain in my fing...</td>\n",
       "    </tr>\n",
       "    <tr>\n",
       "      <th>3</th>\n",
       "      <td>Psoriasis</td>\n",
       "      <td>There is a silver like dusting on my skin, esp...</td>\n",
       "    </tr>\n",
       "    <tr>\n",
       "      <th>4</th>\n",
       "      <td>Psoriasis</td>\n",
       "      <td>My nails have small dents or pits in them, and...</td>\n",
       "    </tr>\n",
       "  </tbody>\n",
       "</table>\n",
       "</div>"
      ],
      "text/plain": [
       "       label                                               text\n",
       "0  Psoriasis  I have been experiencing a skin rash on my arm...\n",
       "1  Psoriasis  My skin has been peeling, especially on my kne...\n",
       "2  Psoriasis  I have been experiencing joint pain in my fing...\n",
       "3  Psoriasis  There is a silver like dusting on my skin, esp...\n",
       "4  Psoriasis  My nails have small dents or pits in them, and..."
      ]
     },
     "execution_count": 2,
     "metadata": {},
     "output_type": "execute_result"
    }
   ],
   "source": [
    "df=pd.read_csv(\"symptomToDisease.csv\")\n",
    "df.drop(columns=\"Unnamed: 0\",axis=1,inplace=True)\n",
    "df.head()"
   ]
  },
  {
   "cell_type": "code",
   "execution_count": 3,
   "metadata": {},
   "outputs": [
    {
     "data": {
      "text/plain": [
       "array(['Psoriasis', 'Varicose Veins', 'Typhoid', 'Chicken pox',\n",
       "       'Impetigo', 'Dengue', 'Fungal infection', 'Common Cold',\n",
       "       'Pneumonia', 'Dimorphic Hemorrhoids', 'Arthritis', 'Acne',\n",
       "       'Bronchial Asthma', 'Hypertension', 'Migraine',\n",
       "       'Cervical spondylosis', 'Jaundice', 'Malaria',\n",
       "       'urinary tract infection', 'allergy',\n",
       "       'gastroesophageal reflux disease', 'drug reaction',\n",
       "       'peptic ulcer disease', 'diabetes'], dtype=object)"
      ]
     },
     "execution_count": 3,
     "metadata": {},
     "output_type": "execute_result"
    }
   ],
   "source": [
    "df['label'].unique()"
   ]
  },
  {
   "cell_type": "code",
   "execution_count": 4,
   "metadata": {},
   "outputs": [
    {
     "data": {
      "text/plain": [
       "array([ 0,  1,  2,  3,  4,  5,  6,  7,  8,  9, 10, 11, 12, 13, 14, 15, 16,\n",
       "       17, 18, 19, 20, 21, 22, 23], dtype=int64)"
      ]
     },
     "execution_count": 4,
     "metadata": {},
     "output_type": "execute_result"
    }
   ],
   "source": [
    "df['label_num'] = df['label'].factorize()[0]\n",
    "df['label_num'].unique()"
   ]
  },
  {
   "cell_type": "code",
   "execution_count": 5,
   "metadata": {},
   "outputs": [],
   "source": [
    "import spacy\n",
    "nlp=spacy.load(\"en_core_web_lg\")"
   ]
  },
  {
   "cell_type": "code",
   "execution_count": 6,
   "metadata": {},
   "outputs": [],
   "source": [
    "def preprocess(text):\n",
    "  doc=nlp(text)\n",
    "  no_stop_words=[token.lemma_ for token in doc if not token.is_stop and not token.is_punct and not token.is_space]\n",
    "  return ' '.join(no_stop_words)"
   ]
  },
  {
   "cell_type": "code",
   "execution_count": 7,
   "metadata": {},
   "outputs": [
    {
     "data": {
      "text/html": [
       "<div>\n",
       "<style scoped>\n",
       "    .dataframe tbody tr th:only-of-type {\n",
       "        vertical-align: middle;\n",
       "    }\n",
       "\n",
       "    .dataframe tbody tr th {\n",
       "        vertical-align: top;\n",
       "    }\n",
       "\n",
       "    .dataframe thead th {\n",
       "        text-align: right;\n",
       "    }\n",
       "</style>\n",
       "<table border=\"1\" class=\"dataframe\">\n",
       "  <thead>\n",
       "    <tr style=\"text-align: right;\">\n",
       "      <th></th>\n",
       "      <th>label</th>\n",
       "      <th>text</th>\n",
       "      <th>label_num</th>\n",
       "      <th>preprocess</th>\n",
       "    </tr>\n",
       "  </thead>\n",
       "  <tbody>\n",
       "    <tr>\n",
       "      <th>0</th>\n",
       "      <td>Psoriasis</td>\n",
       "      <td>I have been experiencing a skin rash on my arm...</td>\n",
       "      <td>0</td>\n",
       "      <td>experience skin rash arm leg torso past week r...</td>\n",
       "    </tr>\n",
       "    <tr>\n",
       "      <th>1</th>\n",
       "      <td>Psoriasis</td>\n",
       "      <td>My skin has been peeling, especially on my kne...</td>\n",
       "      <td>0</td>\n",
       "      <td>skin peel especially knee elbow scalp peeling ...</td>\n",
       "    </tr>\n",
       "    <tr>\n",
       "      <th>2</th>\n",
       "      <td>Psoriasis</td>\n",
       "      <td>I have been experiencing joint pain in my fing...</td>\n",
       "      <td>0</td>\n",
       "      <td>experience joint pain finger wrist knee pain a...</td>\n",
       "    </tr>\n",
       "    <tr>\n",
       "      <th>3</th>\n",
       "      <td>Psoriasis</td>\n",
       "      <td>There is a silver like dusting on my skin, esp...</td>\n",
       "      <td>0</td>\n",
       "      <td>silver like dust skin especially low scalp dus...</td>\n",
       "    </tr>\n",
       "    <tr>\n",
       "      <th>4</th>\n",
       "      <td>Psoriasis</td>\n",
       "      <td>My nails have small dents or pits in them, and...</td>\n",
       "      <td>0</td>\n",
       "      <td>nail small dent pit feel inflammatory tender t...</td>\n",
       "    </tr>\n",
       "  </tbody>\n",
       "</table>\n",
       "</div>"
      ],
      "text/plain": [
       "       label                                               text  label_num   \n",
       "0  Psoriasis  I have been experiencing a skin rash on my arm...          0  \\\n",
       "1  Psoriasis  My skin has been peeling, especially on my kne...          0   \n",
       "2  Psoriasis  I have been experiencing joint pain in my fing...          0   \n",
       "3  Psoriasis  There is a silver like dusting on my skin, esp...          0   \n",
       "4  Psoriasis  My nails have small dents or pits in them, and...          0   \n",
       "\n",
       "                                          preprocess  \n",
       "0  experience skin rash arm leg torso past week r...  \n",
       "1  skin peel especially knee elbow scalp peeling ...  \n",
       "2  experience joint pain finger wrist knee pain a...  \n",
       "3  silver like dust skin especially low scalp dus...  \n",
       "4  nail small dent pit feel inflammatory tender t...  "
      ]
     },
     "execution_count": 7,
     "metadata": {},
     "output_type": "execute_result"
    }
   ],
   "source": [
    "df['preprocess']=df['text'].apply(preprocess)\n",
    "df.head()"
   ]
  },
  {
   "cell_type": "code",
   "execution_count": 8,
   "metadata": {},
   "outputs": [
    {
     "data": {
      "text/html": [
       "<div>\n",
       "<style scoped>\n",
       "    .dataframe tbody tr th:only-of-type {\n",
       "        vertical-align: middle;\n",
       "    }\n",
       "\n",
       "    .dataframe tbody tr th {\n",
       "        vertical-align: top;\n",
       "    }\n",
       "\n",
       "    .dataframe thead th {\n",
       "        text-align: right;\n",
       "    }\n",
       "</style>\n",
       "<table border=\"1\" class=\"dataframe\">\n",
       "  <thead>\n",
       "    <tr style=\"text-align: right;\">\n",
       "      <th></th>\n",
       "      <th>label</th>\n",
       "      <th>text</th>\n",
       "      <th>label_num</th>\n",
       "      <th>preprocess</th>\n",
       "      <th>vector</th>\n",
       "    </tr>\n",
       "  </thead>\n",
       "  <tbody>\n",
       "    <tr>\n",
       "      <th>0</th>\n",
       "      <td>Psoriasis</td>\n",
       "      <td>I have been experiencing a skin rash on my arm...</td>\n",
       "      <td>0</td>\n",
       "      <td>experience skin rash arm leg torso past week r...</td>\n",
       "      <td>[1.2192994, 2.8289015, -2.2025487, 1.1896608, ...</td>\n",
       "    </tr>\n",
       "    <tr>\n",
       "      <th>1</th>\n",
       "      <td>Psoriasis</td>\n",
       "      <td>My skin has been peeling, especially on my kne...</td>\n",
       "      <td>0</td>\n",
       "      <td>skin peel especially knee elbow scalp peeling ...</td>\n",
       "      <td>[0.97605723, 0.94874, -1.1472255, 0.7280576, 0...</td>\n",
       "    </tr>\n",
       "    <tr>\n",
       "      <th>2</th>\n",
       "      <td>Psoriasis</td>\n",
       "      <td>I have been experiencing joint pain in my fing...</td>\n",
       "      <td>0</td>\n",
       "      <td>experience joint pain finger wrist knee pain a...</td>\n",
       "      <td>[2.0753553, 1.5867108, -1.8086601, 1.115871, 0...</td>\n",
       "    </tr>\n",
       "    <tr>\n",
       "      <th>3</th>\n",
       "      <td>Psoriasis</td>\n",
       "      <td>There is a silver like dusting on my skin, esp...</td>\n",
       "      <td>0</td>\n",
       "      <td>silver like dust skin especially low scalp dus...</td>\n",
       "      <td>[0.25079936, 0.6398691, -2.6605594, 1.2761254,...</td>\n",
       "    </tr>\n",
       "    <tr>\n",
       "      <th>4</th>\n",
       "      <td>Psoriasis</td>\n",
       "      <td>My nails have small dents or pits in them, and...</td>\n",
       "      <td>0</td>\n",
       "      <td>nail small dent pit feel inflammatory tender t...</td>\n",
       "      <td>[0.9336986, 2.1108358, -1.6974756, -0.28041342...</td>\n",
       "    </tr>\n",
       "  </tbody>\n",
       "</table>\n",
       "</div>"
      ],
      "text/plain": [
       "       label                                               text  label_num   \n",
       "0  Psoriasis  I have been experiencing a skin rash on my arm...          0  \\\n",
       "1  Psoriasis  My skin has been peeling, especially on my kne...          0   \n",
       "2  Psoriasis  I have been experiencing joint pain in my fing...          0   \n",
       "3  Psoriasis  There is a silver like dusting on my skin, esp...          0   \n",
       "4  Psoriasis  My nails have small dents or pits in them, and...          0   \n",
       "\n",
       "                                          preprocess   \n",
       "0  experience skin rash arm leg torso past week r...  \\\n",
       "1  skin peel especially knee elbow scalp peeling ...   \n",
       "2  experience joint pain finger wrist knee pain a...   \n",
       "3  silver like dust skin especially low scalp dus...   \n",
       "4  nail small dent pit feel inflammatory tender t...   \n",
       "\n",
       "                                              vector  \n",
       "0  [1.2192994, 2.8289015, -2.2025487, 1.1896608, ...  \n",
       "1  [0.97605723, 0.94874, -1.1472255, 0.7280576, 0...  \n",
       "2  [2.0753553, 1.5867108, -1.8086601, 1.115871, 0...  \n",
       "3  [0.25079936, 0.6398691, -2.6605594, 1.2761254,...  \n",
       "4  [0.9336986, 2.1108358, -1.6974756, -0.28041342...  "
      ]
     },
     "execution_count": 8,
     "metadata": {},
     "output_type": "execute_result"
    }
   ],
   "source": [
    "df['vector'] = df.preprocess.apply(lambda text: nlp(text).vector)\n",
    "df.head()"
   ]
  },
  {
   "cell_type": "code",
   "execution_count": 9,
   "metadata": {},
   "outputs": [],
   "source": [
    "from sklearn.model_selection import train_test_split\n",
    "\n",
    "X_train, X_test, y_train, y_test = train_test_split(df['vector'].values,df['label_num'],test_size= 0.30 , random_state = 23 , stratify= df['label_num'])"
   ]
  },
  {
   "cell_type": "code",
   "execution_count": 10,
   "metadata": {},
   "outputs": [],
   "source": [
    "X_train_2d = np.stack(X_train)\n",
    "X_test_2d = np.stack(X_test)"
   ]
  },
  {
   "cell_type": "code",
   "execution_count": 11,
   "metadata": {},
   "outputs": [
    {
     "data": {
      "text/plain": [
       "array([[ 1.7440206 ,  0.89626867, -2.6747396 , ...,  0.6249605 ,\n",
       "        -2.27026   ,  0.8382377 ],\n",
       "       [ 1.0380183 ,  1.27112   , -2.0834167 , ..., -1.1786884 ,\n",
       "        -1.8015467 ,  1.5131559 ],\n",
       "       [ 1.0009422 ,  0.80554944, -2.7707686 , ..., -0.12227114,\n",
       "        -1.6127383 ,  1.1345377 ],\n",
       "       ...,\n",
       "       [ 1.1432995 ,  2.4853828 , -1.7833892 , ..., -0.8340073 ,\n",
       "         0.17324637,  1.1177936 ],\n",
       "       [ 1.1245301 ,  1.19936   , -2.3648794 , ...,  0.4306929 ,\n",
       "        -2.9300957 ,  1.5763779 ],\n",
       "       [ 1.7526917 ,  1.9849628 , -1.8398609 , ..., -0.63795084,\n",
       "        -1.7380466 ,  1.2576607 ]], dtype=float32)"
      ]
     },
     "execution_count": 11,
     "metadata": {},
     "output_type": "execute_result"
    }
   ],
   "source": [
    "X_train_2d"
   ]
  },
  {
   "cell_type": "code",
   "execution_count": 12,
   "metadata": {},
   "outputs": [],
   "source": [
    "from sklearn.preprocessing import MinMaxScaler\n",
    "\n",
    "scaler = MinMaxScaler()\n",
    "\n",
    "X_train_scaled = scaler.fit_transform(X_train_2d)\n",
    "X_test_scaled = scaler.transform(X_test_2d)"
   ]
  },
  {
   "cell_type": "code",
   "execution_count": 13,
   "metadata": {},
   "outputs": [],
   "source": [
    "from sklearn.svm import SVC\n",
    "\n",
    "model = SVC(C=1, kernel='poly', degree=3, gamma=\"scale\")\n",
    "\n",
    "model.fit(X_train_scaled, y_train)\n",
    "\n",
    "y_pred = model.predict(X_test_scaled)"
   ]
  },
  {
   "cell_type": "code",
   "execution_count": 14,
   "metadata": {},
   "outputs": [
    {
     "name": "stdout",
     "output_type": "stream",
     "text": [
      "\n",
      "\n",
      "\n",
      " Classification Report   :\n",
      "\n",
      "\n",
      "                precision    recall  f1-score   support\n",
      "\n",
      "           0       0.93      0.87      0.90        15\n",
      "           1       1.00      1.00      1.00        15\n",
      "           2       1.00      0.93      0.97        15\n",
      "           3       0.71      1.00      0.83        15\n",
      "           4       0.94      1.00      0.97        15\n",
      "           5       0.85      0.73      0.79        15\n",
      "           6       1.00      0.93      0.97        15\n",
      "           7       1.00      0.93      0.97        15\n",
      "           8       1.00      1.00      1.00        15\n",
      "           9       1.00      1.00      1.00        15\n",
      "          10       1.00      1.00      1.00        15\n",
      "          11       1.00      1.00      1.00        15\n",
      "          12       1.00      1.00      1.00        15\n",
      "          13       1.00      0.87      0.93        15\n",
      "          14       1.00      0.93      0.97        15\n",
      "          15       0.94      1.00      0.97        15\n",
      "          16       1.00      1.00      1.00        15\n",
      "          17       0.94      1.00      0.97        15\n",
      "          18       1.00      0.93      0.97        15\n",
      "          19       0.85      0.73      0.79        15\n",
      "          20       0.88      1.00      0.94        15\n",
      "          21       0.81      0.87      0.84        15\n",
      "          22       1.00      1.00      1.00        15\n",
      "          23       0.93      0.93      0.93        15\n",
      "\n",
      "    accuracy                           0.94       360\n",
      "   macro avg       0.95      0.94      0.94       360\n",
      "weighted avg       0.95      0.94      0.94       360\n",
      "\n"
     ]
    }
   ],
   "source": [
    "from sklearn.metrics import classification_report\n",
    "\n",
    "print('\\n\\n\\n Classification Report   :\\n\\n\\n ' , classification_report(y_test,y_pred))"
   ]
  },
  {
   "cell_type": "code",
   "execution_count": 15,
   "metadata": {},
   "outputs": [],
   "source": [
    "from sklearn.metrics import confusion_matrix\n",
    "\n",
    "cm = confusion_matrix(y_test , y_pred)"
   ]
  },
  {
   "cell_type": "code",
   "execution_count": 16,
   "metadata": {},
   "outputs": [
    {
     "data": {
      "image/png": "[encoded data removed]",
      "text/plain": [
       "<Figure size 900x900 with 2 Axes>"
      ]
     },
     "metadata": {},
     "output_type": "display_data"
    }
   ],
   "source": [
    "import matplotlib.pyplot as plt\n",
    "import seaborn as sn\n",
    "\n",
    "font = {'family':'fantasy','color':'blue','size':20}\n",
    "plt.figure(figsize=(9,9), facecolor= 'yellow', edgecolor='red')\n",
    "sn.heatmap(cm , annot= True, fmt=\"d\")\n",
    "plt.xlabel('Prediction', fontdict= {'family':'fantasy','color':'red','size':15})\n",
    "plt.ylabel('Truth', fontdict= {'family':'fantasy','color':'red','size':15})\n",
    "plt.title('Confusion Matrix',fontdict= {'family':'fantasy','color':'blue','size':20})\n",
    "plt.show()"
   ]
  },
  {
   "cell_type": "code",
   "execution_count": null,
   "metadata": {},
   "outputs": [],
   "source": []
  },
  {
   "cell_type": "code",
   "execution_count": 42,
   "metadata": {},
   "outputs": [
    {
     "data": {
      "text/plain": [
       "['symptomToDiseaseDF']"
      ]
     },
     "execution_count": 42,
     "metadata": {},
     "output_type": "execute_result"
    }
   ],
   "source": [
    "import joblib\n",
    "joblib.dump(scaler,'minMaxScaler')\n",
    "joblib.dump(model,\"symptomToDisease\")\n",
    "joblib.dump(df,'symptomToDiseaseDF')"
   ]
  },
  {
   "cell_type": "code",
   "execution_count": 41,
   "metadata": {},
   "outputs": [
    {
     "data": {
      "text/plain": [
       "750    Cervical spondylosis\n",
       "Name: label, dtype: object"
      ]
     },
     "execution_count": 41,
     "metadata": {},
     "output_type": "execute_result"
    }
   ],
   "source": [
    "dict_df=df[['label','label_num']].drop_duplicates(subset=['label', 'label_num'])\n",
    "dict_df[dict_df['label_num']==15]['label']"
   ]
  },
  {
   "cell_type": "code",
   "execution_count": 19,
   "metadata": {},
   "outputs": [],
   "source": [
    "scaler=joblib.load(\"minMaxScaler\")\n",
    "model=joblib.load(\"symptomToDisease\")"
   ]
  },
  {
   "cell_type": "code",
   "execution_count": 34,
   "metadata": {},
   "outputs": [
    {
     "data": {
      "text/plain": [
       "15"
      ]
     },
     "execution_count": 34,
     "metadata": {},
     "output_type": "execute_result"
    }
   ],
   "source": [
    "query=\"i am suffering from fever, have some cough and body pain.\"\n",
    "\n",
    "preProcessed_query=preprocess(query)\n",
    "vector_query=[nlp(preProcessed_query).vector]\n",
    "\n",
    "test_df=pd.DataFrame([vector_query],columns=['vector'])\n",
    "\n",
    "test_df_2d=np.stack(test_df['vector'])\n",
    "\n",
    "# print(test_df_2d)\n",
    "\n",
    "test_df_scaled=scaler.transform(test_df_2d)\n",
    "\n",
    "ans=model.predict(test_df_scaled)\n",
    "\n",
    "ans[0]"
   ]
  },
  {
   "cell_type": "code",
   "execution_count": null,
   "metadata": {},
   "outputs": [],
   "source": []
  }
 ],
 "metadata": {
  "kernelspec": {
   "display_name": "Python 3",
   "language": "python",
   "name": "python3"
  },
  "language_info": {
   "codemirror_mode": {
    "name": "ipython",
    "version": 3
   },
   "file_extension": ".py",
   "mimetype": "text/x-python",
   "name": "python",
   "nbconvert_exporter": "python",
   "pygments_lexer": "ipython3",
   "version": "3.11.0"
  },
  "orig_nbformat": 4
 },
 "nbformat": 4,
 "nbformat_minor": 2
}
